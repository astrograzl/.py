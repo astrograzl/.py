{
 "cells": [
  {
   "cell_type": "markdown",
   "metadata": {},
   "source": [
    "# Generátor QR kódu"
   ]
  },
  {
   "cell_type": "markdown",
   "metadata": {},
   "source": [
    "V tomto názorném tutoriálů ti úkážeme jak jednoduše pomocí programovacího jazyka **Python** a zároveň pohodlně v interaktivním webovém prostředí *IPython notebook*, vytvořit tzv. `QR Code`, pro jakoukoliv informaci, kterou v něm chceme pro někoho schovat.\n",
    "\n",
    "> QR kód (anglicky: QR Code) je prostředek pro automatizovaný sběr dat. Zkratka vychází z anglického „Quick Response“, tedy kódy rychlé reakce. QR kód dokáže zakódovat mnohem větší množství dat, než klasický EAN čárový kód[...](https://cs.wikipedia.org/wiki/QR_k%C3%B3d)"
   ]
  },
  {
   "cell_type": "markdown",
   "metadata": {},
   "source": [
    "Z prosté lennosti použiji již připravený *modul* [`qrcode`](https://pypi.python.org/pypi/qrcode). Tak se podíváme, jest-li ho dokážeš najít v databázi balíčků."
   ]
  },
  {
   "cell_type": "code",
   "execution_count": 1,
   "metadata": {
    "collapsed": false
   },
   "outputs": [
    {
     "name": "stdout",
     "output_type": "stream",
     "text": [
      "PyQRCode                   - A QR code generator written purely in Python with\r\n",
      "                             SVG, EPS, PNG and terminal output.\r\n",
      "django_qrcode_filter       - A simplet django application that provides a\r\n",
      "                             block and fitler templatetag to create inline\r\n",
      "                             DataURI based qrcode images.\r\n",
      "trytond_health_qrcodes     - GNU Health Quick Recognition - QR codes Module\r\n",
      "codegenerator              - QRCodegenerator\r\n",
      "fastqrcode                 - Fast and robust bindings for libqrencode\r\n",
      "tw2.qrcode                 - Client-side QR Code Widget\r\n",
      "Flask-QRcode               - A simple flask extension to render QR codes on\r\n",
      "                             template\r\n",
      "django-qrcode              - Django application that provides simple\r\n",
      "                             templatetags to generate QR-codes\r\n",
      "qrcode                     - QR Code image generator\r\n",
      "medialog.qrcode            - QRcode views and portlet for Plone.\r\n",
      "python_markdown_qrcode     - A markdown extension to insert qrcode datauri\r\n",
      "                             images based on supplied data.\r\n",
      "pyStrich                   - PyStrich is a Python module to generate 1D and 2D\r\n",
      "                             barcodes (Code 128, DataMatrix, QRCode and\r\n",
      "                             EAN13).Forked from huBarcode.\r\n"
     ]
    }
   ],
   "source": [
    "!pip search qrcode"
   ]
  },
  {
   "cell_type": "markdown",
   "metadata": {},
   "source": [
    "Yep! Je tam ;-) U mě je to hned ten čtvrtý od spodu ;-) Tak si ho rovnou nainstaluj..."
   ]
  },
  {
   "cell_type": "code",
   "execution_count": 2,
   "metadata": {
    "collapsed": false
   },
   "outputs": [
    {
     "name": "stdout",
     "output_type": "stream",
     "text": [
      "Collecting qrcode\n",
      "Collecting six (from qrcode)\n",
      "  Using cached six-1.9.0-py2.py3-none-any.whl\n",
      "Installing collected packages: six, qrcode\n",
      "Successfully installed qrcode-5.1 six-1.9.0\n"
     ]
    }
   ],
   "source": [
    "!pip install qrcode"
   ]
  },
  {
   "cell_type": "markdown",
   "metadata": {},
   "source": [
    "Jeho používání je pak v podstatě stejné, jako jakéhokoliv jiného modulu napsaného pro programovací jazyk Python."
   ]
  },
  {
   "cell_type": "code",
   "execution_count": 7,
   "metadata": {
    "collapsed": false
   },
   "outputs": [],
   "source": [
    "# import modulu\n",
    "import qrcode"
   ]
  },
  {
   "cell_type": "code",
   "execution_count": 4,
   "metadata": {
    "collapsed": false
   },
   "outputs": [
    {
     "ename": "ImportError",
     "evalue": "No module named 'Image'",
     "output_type": "error",
     "traceback": [
      "\u001b[1;31m---------------------------------------------------------------------------\u001b[0m",
      "\u001b[1;31mImportError\u001b[0m                               Traceback (most recent call last)",
      "\u001b[1;32m/opt/miniconda3/envs/Salome/lib/python3.4/site-packages/qrcode/image/pil.py\u001b[0m in \u001b[0;36m<module>\u001b[1;34m()\u001b[0m\n\u001b[0;32m      5\u001b[0m \u001b[1;32mtry\u001b[0m\u001b[1;33m:\u001b[0m\u001b[1;33m\u001b[0m\u001b[0m\n\u001b[1;32m----> 6\u001b[1;33m     \u001b[1;32mfrom\u001b[0m \u001b[0mPIL\u001b[0m \u001b[1;32mimport\u001b[0m \u001b[0mImage\u001b[0m\u001b[1;33m,\u001b[0m \u001b[0mImageDraw\u001b[0m\u001b[1;33m\u001b[0m\u001b[0m\n\u001b[0m\u001b[0;32m      7\u001b[0m \u001b[1;32mexcept\u001b[0m \u001b[0mImportError\u001b[0m\u001b[1;33m:\u001b[0m  \u001b[1;31m# pragma: no cover\u001b[0m\u001b[1;33m\u001b[0m\u001b[0m\n",
      "\u001b[1;31mImportError\u001b[0m: No module named 'PIL'",
      "\nDuring handling of the above exception, another exception occurred:\n",
      "\u001b[1;31mImportError\u001b[0m                               Traceback (most recent call last)",
      "\u001b[1;32m<ipython-input-4-064c5485c598>\u001b[0m in \u001b[0;36m<module>\u001b[1;34m()\u001b[0m\n\u001b[1;32m----> 1\u001b[1;33m \u001b[0mimg\u001b[0m \u001b[1;33m=\u001b[0m \u001b[0mqrcode\u001b[0m\u001b[1;33m.\u001b[0m\u001b[0mmake\u001b[0m\u001b[1;33m(\u001b[0m\u001b[1;34m\"«https://miluji.te/kote/»\"\u001b[0m\u001b[1;33m)\u001b[0m\u001b[1;33m\u001b[0m\u001b[0m\n\u001b[0m",
      "\u001b[1;32m/opt/miniconda3/envs/Salome/lib/python3.4/site-packages/qrcode/main.py\u001b[0m in \u001b[0;36mmake\u001b[1;34m(data, **kwargs)\u001b[0m\n\u001b[0;32m      9\u001b[0m     \u001b[0mqr\u001b[0m \u001b[1;33m=\u001b[0m \u001b[0mQRCode\u001b[0m\u001b[1;33m(\u001b[0m\u001b[1;33m**\u001b[0m\u001b[0mkwargs\u001b[0m\u001b[1;33m)\u001b[0m\u001b[1;33m\u001b[0m\u001b[0m\n\u001b[0;32m     10\u001b[0m     \u001b[0mqr\u001b[0m\u001b[1;33m.\u001b[0m\u001b[0madd_data\u001b[0m\u001b[1;33m(\u001b[0m\u001b[0mdata\u001b[0m\u001b[1;33m)\u001b[0m\u001b[1;33m\u001b[0m\u001b[0m\n\u001b[1;32m---> 11\u001b[1;33m     \u001b[1;32mreturn\u001b[0m \u001b[0mqr\u001b[0m\u001b[1;33m.\u001b[0m\u001b[0mmake_image\u001b[0m\u001b[1;33m(\u001b[0m\u001b[1;33m)\u001b[0m\u001b[1;33m\u001b[0m\u001b[0m\n\u001b[0m\u001b[0;32m     12\u001b[0m \u001b[1;33m\u001b[0m\u001b[0m\n\u001b[0;32m     13\u001b[0m \u001b[1;33m\u001b[0m\u001b[0m\n",
      "\u001b[1;32m/opt/miniconda3/envs/Salome/lib/python3.4/site-packages/qrcode/main.py\u001b[0m in \u001b[0;36mmake_image\u001b[1;34m(self, image_factory, **kwargs)\u001b[0m\n\u001b[0;32m    254\u001b[0m             \u001b[1;32mif\u001b[0m \u001b[0mimage_factory\u001b[0m \u001b[1;32mis\u001b[0m \u001b[1;32mNone\u001b[0m\u001b[1;33m:\u001b[0m\u001b[1;33m\u001b[0m\u001b[0m\n\u001b[0;32m    255\u001b[0m                 \u001b[1;31m# Use PIL by default\u001b[0m\u001b[1;33m\u001b[0m\u001b[1;33m\u001b[0m\u001b[0m\n\u001b[1;32m--> 256\u001b[1;33m                 \u001b[1;32mfrom\u001b[0m \u001b[0mqrcode\u001b[0m\u001b[1;33m.\u001b[0m\u001b[0mimage\u001b[0m\u001b[1;33m.\u001b[0m\u001b[0mpil\u001b[0m \u001b[1;32mimport\u001b[0m \u001b[0mPilImage\u001b[0m\u001b[1;33m\u001b[0m\u001b[0m\n\u001b[0m\u001b[0;32m    257\u001b[0m                 \u001b[0mimage_factory\u001b[0m \u001b[1;33m=\u001b[0m \u001b[0mPilImage\u001b[0m\u001b[1;33m\u001b[0m\u001b[0m\n\u001b[0;32m    258\u001b[0m \u001b[1;33m\u001b[0m\u001b[0m\n",
      "\u001b[1;32m/opt/miniconda3/envs/Salome/lib/python3.4/site-packages/qrcode/image/pil.py\u001b[0m in \u001b[0;36m<module>\u001b[1;34m()\u001b[0m\n\u001b[0;32m      6\u001b[0m     \u001b[1;32mfrom\u001b[0m \u001b[0mPIL\u001b[0m \u001b[1;32mimport\u001b[0m \u001b[0mImage\u001b[0m\u001b[1;33m,\u001b[0m \u001b[0mImageDraw\u001b[0m\u001b[1;33m\u001b[0m\u001b[0m\n\u001b[0;32m      7\u001b[0m \u001b[1;32mexcept\u001b[0m \u001b[0mImportError\u001b[0m\u001b[1;33m:\u001b[0m  \u001b[1;31m# pragma: no cover\u001b[0m\u001b[1;33m\u001b[0m\u001b[0m\n\u001b[1;32m----> 8\u001b[1;33m     \u001b[1;32mimport\u001b[0m \u001b[0mImage\u001b[0m\u001b[1;33m\u001b[0m\u001b[0m\n\u001b[0m\u001b[0;32m      9\u001b[0m     \u001b[1;32mimport\u001b[0m \u001b[0mImageDraw\u001b[0m\u001b[1;33m\u001b[0m\u001b[0m\n\u001b[0;32m     10\u001b[0m \u001b[1;33m\u001b[0m\u001b[0m\n",
      "\u001b[1;31mImportError\u001b[0m: No module named 'Image'"
     ]
    }
   ],
   "source": [
    "# vytvoření nového objektu\n",
    "img = qrcode.make(\"«https://miluji.te/kote/»\")"
   ]
  },
  {
   "cell_type": "markdown",
   "metadata": {},
   "source": [
    "Jejda! Co se to stalo? Python nezná modul [PIL](http://python-pillow.github.io/), který je třeba pro manipulaci s obrázky. Mno co se dá dělat jiného, než se ho pokusit nainstalovat."
   ]
  },
  {
   "cell_type": "code",
   "execution_count": 6,
   "metadata": {
    "collapsed": false
   },
   "outputs": [
    {
     "name": "stdout",
     "output_type": "stream",
     "text": [
      "Fetching package metadata: ....\n",
      "Solving package specifications: ..\n",
      "Error: Unsatisfiable package specifications.\n",
      "Generating hint: \n",
      "\n",
      "\n",
      "Hint: the following combinations of packages create a conflict with the\n",
      "remaining packages:\n",
      "  - python 3.4*\n",
      "  - pil\n"
     ]
    }
   ],
   "source": [
    "!conda install PIL"
   ]
  },
  {
   "cell_type": "markdown",
   "metadata": {},
   "source": [
    "Už si vzpomínám! Conda nemá ráda, když se na ní řve. Ale můžeš ji efektivně utišit přiloženým příkazem"
   ]
  },
  {
   "cell_type": "code",
   "execution_count": 12,
   "metadata": {
    "collapsed": false
   },
   "outputs": [
    {
     "name": "stdout",
     "output_type": "stream",
     "text": [
      "Fetching package metadata: ....\n",
      "Solving package specifications: .\n",
      "Package plan for installation in environment /opt/miniconda3/envs/Salome:\n",
      "\n",
      "The following packages will be downloaded:\n",
      "\n",
      "    package                    |            build\n",
      "    ---------------------------|-----------------\n",
      "    jpeg-8d                    |                0         699 KB\n",
      "    libpng-1.6.17              |                0         214 KB\n",
      "    freetype-2.5.2             |                2         2.5 MB\n",
      "    libtiff-4.0.2              |                1         930 KB\n",
      "    pillow-2.9.0               |           py34_0         805 KB\n",
      "    ------------------------------------------------------------\n",
      "                                           Total:         5.1 MB\n",
      "\n",
      "The following NEW packages will be INSTALLED:\n",
      "\n",
      "    freetype: 2.5.2-2     \n",
      "    jpeg:     8d-0        \n",
      "    libpng:   1.6.17-0    \n",
      "    libtiff:  4.0.2-1     \n",
      "    pillow:   2.9.0-py34_0\n",
      "\n",
      "Proceed ([y]/n)? \n",
      "Fetching packages ...\n",
      "jpeg-8d-0.tar. 100% |################################| Time: 0:00:01 560.04 kB/s\n",
      "libpng-1.6.17- 100% |################################| Time: 0:00:00 258.36 kB/s\n",
      "freetype-2.5.2 100% |################################| Time: 0:00:03 805.08 kB/s\n",
      "libtiff-4.0.2- 100% |################################| Time: 0:00:01 538.26 kB/s\n",
      "pillow-2.9.0-p 100% |################################| Time: 0:00:02 383.62 kB/s\n",
      "Extracting packages ...\n",
      "[      COMPLETE      ]|###################################################| 100%\n",
      "Linking packages ...\n",
      "[      COMPLETE      ]|###################################################| 100%\n",
      "yes: standardní výstup: Roura přerušena (SIGPIPE)\n"
     ]
    }
   ],
   "source": [
    "! yes | conda install pillow"
   ]
  },
  {
   "cell_type": "markdown",
   "metadata": {},
   "source": [
    "Tak jo, pojďme to zkusit ještě jednou a doufejme, že tentokrát už správně."
   ]
  },
  {
   "cell_type": "code",
   "execution_count": 26,
   "metadata": {
    "collapsed": false
   },
   "outputs": [],
   "source": [
    "# vytvoření nového objektu podruhé\n",
    "img = qrcode.make(\"http://astrograzl.gitbooks.io/salome/\")"
   ]
  },
  {
   "cell_type": "markdown",
   "metadata": {},
   "source": [
    "Nic se nestalo? Nic to nepíše? Tak to je správně ;-) Obrázek právě vygenerovaného QR kódu ze zadané adresy si můžeš prohlédnout přímo v IPythoním notebooku zavoláním jeho jména."
   ]
  },
  {
   "cell_type": "code",
   "execution_count": 27,
   "metadata": {
    "collapsed": false
   },
   "outputs": [
    {
     "data": {
      "image/png": "[encoded data removed]",
      "text/plain": [
       "<qrcode.image.pil.PilImage at 0x7fd502e5a978>"
      ]
     },
     "execution_count": 27,
     "metadata": {},
     "output_type": "execute_result"
    }
   ],
   "source": [
    "img"
   ]
  },
  {
   "cell_type": "markdown",
   "metadata": {},
   "source": [
    "Pokud je to ten správný a jsi s ním dostatečně spokojená, můžeš si ho uložit pro pozdější použití..."
   ]
  },
  {
   "cell_type": "code",
   "execution_count": 28,
   "metadata": {
    "collapsed": true
   },
   "outputs": [],
   "source": [
    "# uložení grafické reprezentace snímku\n",
    "img.save(\"qrcode.png\")"
   ]
  }
 ],
 "metadata": {
  "kernelspec": {
   "display_name": "Python 3",
   "language": "python",
   "name": "python3"
  },
  "language_info": {
   "codemirror_mode": {
    "name": "ipython",
    "version": 3
   },
   "file_extension": ".py",
   "mimetype": "text/x-python",
   "name": "python",
   "nbconvert_exporter": "python",
   "pygments_lexer": "ipython3",
   "version": "3.4.3"
  }
 },
 "nbformat": 4,
 "nbformat_minor": 0
}
