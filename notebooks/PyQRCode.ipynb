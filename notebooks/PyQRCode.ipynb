{
 "cells": [
  {
   "cell_type": "markdown",
   "metadata": {},
   "source": [
    "# QR Code generator"
   ]
  },
  {
   "cell_type": "markdown",
   "metadata": {},
   "source": [
    "V tomto názorném tutoriálů si úkážeme jak jednoduše pomocí programovacího jazyka **Python** a zároveň pohodlně v interaktivním webovém prostředí *IPython notebook*, vytvořit tzv. `QR Code`, pro jakoukoliv informaci, kterou v něm chceme pro někoho schovat."
   ]
  },
  {
   "cell_type": "markdown",
   "metadata": {},
   "source": [
    "Z prosté lennosti použijeme už připravený *modul* [`qrcode`](https://pypi.python.org/pypi/qrcode). Tak se podíváme, jestli ho dokážeme najít v databázi balíčků."
   ]
  },
  {
   "cell_type": "code",
   "execution_count": 4,
   "metadata": {
    "collapsed": false
   },
   "outputs": [
    {
     "name": "stdout",
     "output_type": "stream",
     "text": [
      "codegenerator              - QRCodegenerator\r\n",
      "qrcode                     - QR Code image generator\r\n",
      "tw2.qrcode                 - Client-side QR Code Widget\r\n",
      "trytond_health_qrcodes     - GNU Health Quick Recognition - QR codes Module\r\n",
      "python_markdown_qrcode     - A markdown extension to insert qrcode datauri\r\n",
      "                             images based on supplied data.\r\n",
      "django_qrcode_filter       - A simplet django application that provides a\r\n",
      "                             block and fitler templatetag to create inline\r\n",
      "                             DataURI based qrcode images.\r\n",
      "django-qrcode              - Django application that provides simple\r\n",
      "                             templatetags to generate QR-codes\r\n",
      "medialog.qrcode            - QRcode views and portlet for Plone.\r\n",
      "Flask-QRcode               - A simple flask extension to render QR codes on\r\n",
      "                             template\r\n",
      "PyQRCode                   - A QR code generator written purely in Python with\r\n",
      "                             SVG, EPS, PNG and terminal output.\r\n",
      "  INSTALLED: 1.1 (latest)\r\n",
      "fastqrcode                 - Fast and robust bindings for libqrencode\r\n"
     ]
    }
   ],
   "source": [
    "!pip search qrcode"
   ]
  },
  {
   "cell_type": "markdown",
   "metadata": {},
   "source": [
    "Yep! A je to hned ten druhý ;-) Tak si ho rovnou nainstalujeme..."
   ]
  },
  {
   "cell_type": "code",
   "execution_count": 5,
   "metadata": {
    "collapsed": false
   },
   "outputs": [
    {
     "name": "stdout",
     "output_type": "stream",
     "text": [
      "Collecting qrcode\n",
      "  Downloading qrcode-5.1.tar.gz\n",
      "Requirement already satisfied (use --upgrade to upgrade): six in /usr/lib/python3.4/site-packages (from qrcode)\n",
      "Installing collected packages: qrcode\n",
      "  Running setup.py install for qrcode\n",
      "Successfully installed qrcode-5.1\n"
     ]
    }
   ],
   "source": [
    "!pip install --user qrcode"
   ]
  },
  {
   "cell_type": "markdown",
   "metadata": {},
   "source": [
    "Jeho používání je pak v podstatě stejné, jako jakéhokoliv jiného modulu napsaného pro programovací jazyk Python."
   ]
  },
  {
   "cell_type": "code",
   "execution_count": 12,
   "metadata": {
    "collapsed": true
   },
   "outputs": [],
   "source": [
    "import qrcode"
   ]
  },
  {
   "cell_type": "code",
   "execution_count": 13,
   "metadata": {
    "collapsed": false
   },
   "outputs": [],
   "source": [
    "img = qrcode.make(\"«https://miluji.te/kote/»\")"
   ]
  },
  {
   "cell_type": "markdown",
   "metadata": {},
   "source": [
    "Aby jsme si právě vytvořený obrázek prohlédli, aktivujeme prostředí [`PyLab`](http://wiki.scipy.org/PyLab) dnes již zastaralým a nedoporučovaným způsobem."
   ]
  },
  {
   "cell_type": "code",
   "execution_count": 14,
   "metadata": {
    "collapsed": false
   },
   "outputs": [
    {
     "name": "stdout",
     "output_type": "stream",
     "text": [
      "Populating the interactive namespace from numpy and matplotlib\n"
     ]
    },
    {
     "name": "stderr",
     "output_type": "stream",
     "text": [
      "WARNING: pylab import has clobbered these variables: ['qr']\n",
      "`%matplotlib` prevents importing * from pylab and numpy\n"
     ]
    }
   ],
   "source": [
    "%pylab inline"
   ]
  },
  {
   "cell_type": "markdown",
   "metadata": {},
   "source": [
    "A zobrazíme obrázek."
   ]
  },
  {
   "cell_type": "code",
   "execution_count": 19,
   "metadata": {
    "collapsed": false
   },
   "outputs": [
    {
     "data": {
      "text/plain": [
       "<matplotlib.image.AxesImage at 0x7f50f8a28048>"
      ]
     },
     "execution_count": 19,
     "metadata": {},
     "output_type": "execute_result"
    },
    {
     "data": {
      "image/png": "[encoded data removed]",
      "text/plain": [
       "<matplotlib.figure.Figure at 0x7f50f8a673c8>"
      ]
     },
     "metadata": {},
     "output_type": "display_data"
    }
   ],
   "source": [
    "imshow(img)"
   ]
  },
  {
   "cell_type": "code",
   "execution_count": null,
   "metadata": {
    "collapsed": true
   },
   "outputs": [],
   "source": []
  }
 ],
 "metadata": {
  "kernelspec": {
   "display_name": "Python 3",
   "language": "python",
   "name": "python3"
  },
  "language_info": {
   "codemirror_mode": {
    "name": "ipython",
    "version": 3
   },
   "file_extension": ".py",
   "mimetype": "text/x-python",
   "name": "python",
   "nbconvert_exporter": "python",
   "pygments_lexer": "ipython3",
   "version": "3.4.3"
  }
 },
 "nbformat": 4,
 "nbformat_minor": 0
}
